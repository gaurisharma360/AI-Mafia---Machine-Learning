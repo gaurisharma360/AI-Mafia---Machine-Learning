{
  "nbformat": 4,
  "nbformat_minor": 0,
  "metadata": {
    "colab": {
      "name": "TwitterBot.ipynb",
      "provenance": [],
      "collapsed_sections": []
    },
    "kernelspec": {
      "name": "python3",
      "display_name": "Python 3"
    }
  },
  "cells": [
    {
      "cell_type": "code",
      "metadata": {
        "id": "m67fV5G9NHh9"
      },
      "source": [
        "#CHANGING YOUR TWITTER HANDLE NAME ACC TO NO OF FOLLOWERS AND THIS WILL BE DONE BY A BOT"
      ],
      "execution_count": null,
      "outputs": []
    },
    {
      "cell_type": "code",
      "metadata": {
        "id": "6Tgcf5beUy_z"
      },
      "source": [
        "import tweepy#TWITTER PYTHON \n",
        "\n"
      ],
      "execution_count": null,
      "outputs": []
    },
    {
      "cell_type": "code",
      "metadata": {
        "id": "tHvYAhO_LoRb"
      },
      "source": [
        "consumer_key= 'AganLE9PMGOUvtEmrvHUDyPsb'\n",
        "consumer_secret='TlH31wwQGhMy5y1JNCmpr5cBKST7OM4uij11jwtBhK28ZTPokP'\n",
        "access_token='1323261018269777927-hR6zDT4kRFK5FX6CjhF87DKAW8E5CC'\n",
        "access_token_secret='Mxei9T409ZUBIR86clQAX6GpfiKFQP0vU1Le7UcfLwvKS'"
      ],
      "execution_count": null,
      "outputs": []
    },
    {
      "cell_type": "code",
      "metadata": {
        "id": "A41rs_DTJH8N"
      },
      "source": [
        "#AUTHORIZATION\n",
        "auth = tweepy.OAuthHandler(consumer_key, consumer_secret)\n",
        "auth.set_access_token(access_token, access_token_secret)\n"
      ],
      "execution_count": null,
      "outputs": []
    },
    {
      "cell_type": "code",
      "metadata": {
        "id": "U3r-MkZHJIJV"
      },
      "source": [
        "#CALLING THE API\n",
        "api = tweepy.API(auth)"
      ],
      "execution_count": null,
      "outputs": []
    },
    {
      "cell_type": "code",
      "metadata": {
        "id": "mdawEpX_JP5S",
        "outputId": "2d510ce6-5155-4c9a-d533-2d15fdf09842",
        "colab": {
          "base_uri": "https://localhost:8080/"
        }
      },
      "source": [
        "#BASICALLY SCRAPPING MY TWITTER ACCOUNT HERE\n",
        "public_tweets = api.home_timeline()\n",
        "for tweet in public_tweets:\n",
        "    print(tweet.text)"
      ],
      "execution_count": null,
      "outputs": [
        {
          "output_type": "stream",
          "text": [
            "While the pandemic has greatly diminished tourism, Ecuador is eager to rebound—with chocolate as an incentive https://t.co/cBG3bEq5wd\n",
            "We break down where the U.S. stands on animal-protection issues, and how the Biden Administration might approach po… https://t.co/gUQlaNgvpS\n",
            "People are at the center of #cybersecurity. \n",
            "\n",
            "Here's why taking a human-centric approach to your cybersecurity matt… https://t.co/wAHWdUoQvP\n",
            "What makes leopards deadly? They're pouncers, not chasers https://t.co/3XDohUgqGr\n",
            "Crew Dragon and Falcon 9 in the hangar at Launch Complex 39A ahead of launching four astronauts to the… https://t.co/cnkLRu8R08\n",
            "Congratulations to Google authors @benjello, Shiyu Chen and Natasha Noy, recipients of an @iswc_conf \"Best In-Use P… https://t.co/DgeloFdBDs\n",
            "Check out the story of why we wanted to open source Docs, what tools we built and open sourced along the way, and h… https://t.co/Yj9rdB4w5K\n",
            "Xbox and the People's Champ @TheRock are teaming up once again to celebrate the launch of the next generation of… https://t.co/jr77D002RR\n",
            "RT @joshuagates: Tune in Wednesday at 8pm. @McConaughey takes us behind the scenes of his storied career. Also, his bestselling, new book #…\n",
            "Beyond his legendary role at Jeopardy!, Alex Trebek was a longtime advocate for geography education and hosted the… https://t.co/MXIndl4EQL\n",
            "This should be pretty good, get it on your calendars now! https://t.co/NFB75C1Jwu\n",
            "RT @BradSmi: To advance ethical AI requires conversations not only between technologists, governments, NGOs, &amp; educators, but also philosop…\n",
            "RT @TensorFlow: 📖 The #TFCommunitySpotlight story so far\n",
            "\n",
            "We started this program to offer developers a chance to showcase their TensorFlow…\n",
            "Check out the October 2020 Availability Report with updates on GitHub status last month here: https://t.co/hHWouPfI7o\n",
            "Alright, alright, alright! #JoshGatesTonight returns Wednesday at 8p with special guest @McConaughey! @JoshuaGates https://t.co/1XRxzJrVVd\n",
            "Formations of a flock of birds in the sky and a school of fish in the ocean. https://t.co/9aCs4fm3Jl\n",
            "The virus claimed a fraternity brother, youth mentor, and onetime Mardi Gras ‘King Zulu.’ This is his story. https://t.co/sOS1P2S8xd\n",
            "*Joins meeting*\n",
            "\n",
            "*Mutes mic*\n",
            "\n",
            "*Only pays attention to the comments in the chat*\n",
            "On Nov. 9, Pfizer and BioNTech announced that its vaccine candidate is more than 90% effective with no serious safe… https://t.co/80NCRi8ozW\n",
            "Presenting the open-sourced Objectron dataset, a collection of short, object-centric video clips capturing common o… https://t.co/t1FW8NUo2U\n"
          ],
          "name": "stdout"
        }
      ]
    },
    {
      "cell_type": "code",
      "metadata": {
        "id": "zdlVWMeuNe7E"
      },
      "source": [
        "#CREATING SPECIFIC TYPE OF EMOJI FOR A PARTICULAR NUMBER\n",
        "emoji_num={0:'0️⃣',\n",
        "           1:'1️⃣',\n",
        "           2:'2️⃣',\n",
        "           3:'3️⃣',\n",
        "           4:'4️⃣',\n",
        "           5:'5️⃣',\n",
        "           6:'6️⃣',\n",
        "           7:'7️⃣',\n",
        "           8:'8️⃣',\n",
        "           9:'9️⃣'\n",
        "           }"
      ],
      "execution_count": null,
      "outputs": []
    },
    {
      "cell_type": "code",
      "metadata": {
        "id": "-gD8N2qIRsDb",
        "outputId": "ccda821e-f2dc-4efb-d9c2-5ea596fa0f92",
        "colab": {
          "base_uri": "https://localhost:8080/"
        }
      },
      "source": [
        "emoji_num.keys()"
      ],
      "execution_count": null,
      "outputs": [
        {
          "output_type": "execute_result",
          "data": {
            "text/plain": [
              "dict_keys([0, 1, 2, 3, 4, 5, 6, 7, 8, 9])"
            ]
          },
          "metadata": {
            "tags": []
          },
          "execution_count": 8
        }
      ]
    },
    {
      "cell_type": "code",
      "metadata": {
        "id": "CofGtp8PRwFD",
        "outputId": "368ff3c8-a3f7-4a83-d538-f499464f647d",
        "colab": {
          "base_uri": "https://localhost:8080/"
        }
      },
      "source": [
        "#Splitting the numbers like i do not want '200' but 2,0,0 as sepearte emoji\n",
        "#whatever i scrape it will be in form of integers but inte are not iterable\n",
        "#I have to have my input in strings and also the output\n",
        "a=200\n",
        "b=[]#b is a list\n",
        "for i in str(a):\n",
        "  b.append(int(i))\n",
        "print (b) \n",
        "\n"
      ],
      "execution_count": null,
      "outputs": [
        {
          "output_type": "stream",
          "text": [
            "[2, 0, 0]\n"
          ],
          "name": "stdout"
        }
      ]
    },
    {
      "cell_type": "code",
      "metadata": {
        "id": "7853Qx6NUWv8",
        "outputId": "1c84ddea-e201-4b04-fe86-35c15eea10c6",
        "colab": {
          "base_uri": "https://localhost:8080/"
        }
      },
      "source": [
        "#Reducing the above code by list comprehension\n",
        "a=200\n",
        "b=[int(i) for i in str(a)]#[whatever is appended-procedure to do so ]\n",
        "print(b)"
      ],
      "execution_count": null,
      "outputs": [
        {
          "output_type": "stream",
          "text": [
            "[2, 0, 0]\n"
          ],
          "name": "stdout"
        }
      ]
    },
    {
      "cell_type": "code",
      "metadata": {
        "id": "eDTNtbcNXc-J",
        "outputId": "406a4d2a-7519-4845-affd-d62b0676f801",
        "colab": {
          "base_uri": "https://localhost:8080/"
        }
      },
      "source": [
        "#User to return emoji\n",
        "emoji_uf=[]\n",
        "for j in b:\n",
        "   emoji_uf.append(emoji_num[j])\n",
        "print(emoji_uf)  \n"
      ],
      "execution_count": null,
      "outputs": [
        {
          "output_type": "stream",
          "text": [
            "['2️⃣', '0️⃣', '0️⃣']\n"
          ],
          "name": "stdout"
        }
      ]
    },
    {
      "cell_type": "code",
      "metadata": {
        "id": "fIKIl672ZhWS",
        "outputId": "0f37b106-473f-453f-f476-d652cb6d33b3",
        "colab": {
          "base_uri": "https://localhost:8080/"
        }
      },
      "source": [
        "emoji_uf=[emoji_num[j] for j in b]\n",
        "print(emoji_uf)"
      ],
      "execution_count": null,
      "outputs": [
        {
          "output_type": "stream",
          "text": [
            "['2️⃣', '0️⃣', '0️⃣']\n"
          ],
          "name": "stdout"
        }
      ]
    },
    {
      "cell_type": "code",
      "metadata": {
        "id": "t0DUvHjYbyBE"
      },
      "source": [
        "#CREATING FINAL CODE"
      ],
      "execution_count": null,
      "outputs": []
    },
    {
      "cell_type": "code",
      "metadata": {
        "id": "Gge7PEuVeuip"
      },
      "source": [
        "import tweepy\n",
        "def create_api():\n",
        "  consumer_key= 'AganLE9PMGOUvtEmrvHUDyPsb'\n",
        "  consumer_secret='TlH31wwQGhMy5y1JNCmpr5cBKST7OM4uij11jwtBhK28ZTPokP'\n",
        "  access_token='1323261018269777927-hR6zDT4kRFK5FX6CjhF87DKAW8E5CC'\n",
        "  access_token_secret='Mxei9T409ZUBIR86clQAX6GpfiKFQP0vU1Le7UcfLwvKS'\n",
        "  #AUTHORIZATION\n",
        "  auth = tweepy.OAuthHandler(consumer_key, consumer_secret)\n",
        "  auth.set_access_token(access_token, access_token_secret)\n",
        "  #CALLING THE API\n",
        "  api = tweepy.API(auth)\n",
        "  #BASICALLY SCRAPPING MY TWITTER ACCOUNT HERE\n",
        "  public_tweets = api.home_timeline()\n",
        "  for tweet in public_tweets:\n",
        "      print(tweet.text)#till here refer to tweepy documentation exactly same\n",
        "  return api"
      ],
      "execution_count": null,
      "outputs": []
    },
    {
      "cell_type": "code",
      "metadata": {
        "id": "bMa2jxEZgQro",
        "outputId": "cd88f1bc-62ea-40f1-d775-5af9fdba1747",
        "colab": {
          "base_uri": "https://localhost:8080/",
          "height": 968
        }
      },
      "source": [
        "#CREATING SPECIFIC TYPE OF EMOJI FOR A PARTICULAR NUMBER\n",
        "import time\n",
        "def followers(user):\n",
        "  emoji_num={0:'0️⃣',\n",
        "            1:'1️⃣',\n",
        "            2:'2️⃣',\n",
        "            3:'3️⃣',\n",
        "            4:'4️⃣',\n",
        "            5:'5️⃣',\n",
        "            6:'6️⃣',\n",
        "            7:'7️⃣',\n",
        "            8:'8️⃣',\n",
        "            9:'9️⃣'\n",
        "            }    \n",
        "  emoji_num.keys()\n",
        "  b=[int(i) for i in str(user.followers_count)]\n",
        "  emoji_followers=''.join([emoji_num[j] for j in b])\n",
        "  return emoji_followers\n",
        "api=create_api()\n",
        "while True:\n",
        "  user=api.get_user('@Gauri360')\n",
        "  api.update_profile(name=f'Gauri|{followers(user)}|Followers')\n",
        "  print(f'Gauri|{followers(user)}|Followers')\n",
        "  print(\"Waiting to refresh\")\n",
        "\n",
        "  time.sleep(30)\n"
      ],
      "execution_count": null,
      "outputs": [
        {
          "output_type": "stream",
          "text": [
            "While the pandemic has greatly diminished tourism, Ecuador is eager to rebound—with chocolate as an incentive https://t.co/cBG3bEq5wd\n",
            "We break down where the U.S. stands on animal-protection issues, and how the Biden Administration might approach po… https://t.co/gUQlaNgvpS\n",
            "People are at the center of #cybersecurity. \n",
            "\n",
            "Here's why taking a human-centric approach to your cybersecurity matt… https://t.co/wAHWdUoQvP\n",
            "What makes leopards deadly? They're pouncers, not chasers https://t.co/3XDohUgqGr\n",
            "Crew Dragon and Falcon 9 in the hangar at Launch Complex 39A ahead of launching four astronauts to the… https://t.co/cnkLRu8R08\n",
            "Congratulations to Google authors @benjello, Shiyu Chen and Natasha Noy, recipients of an @iswc_conf \"Best In-Use P… https://t.co/DgeloFdBDs\n",
            "Check out the story of why we wanted to open source Docs, what tools we built and open sourced along the way, and h… https://t.co/Yj9rdB4w5K\n",
            "Xbox and the People's Champ @TheRock are teaming up once again to celebrate the launch of the next generation of… https://t.co/jr77D002RR\n",
            "RT @joshuagates: Tune in Wednesday at 8pm. @McConaughey takes us behind the scenes of his storied career. Also, his bestselling, new book #…\n",
            "Beyond his legendary role at Jeopardy!, Alex Trebek was a longtime advocate for geography education and hosted the… https://t.co/MXIndl4EQL\n",
            "This should be pretty good, get it on your calendars now! https://t.co/NFB75C1Jwu\n",
            "RT @BradSmi: To advance ethical AI requires conversations not only between technologists, governments, NGOs, &amp; educators, but also philosop…\n",
            "RT @TensorFlow: 📖 The #TFCommunitySpotlight story so far\n",
            "\n",
            "We started this program to offer developers a chance to showcase their TensorFlow…\n",
            "Check out the October 2020 Availability Report with updates on GitHub status last month here: https://t.co/hHWouPfI7o\n",
            "Alright, alright, alright! #JoshGatesTonight returns Wednesday at 8p with special guest @McConaughey! @JoshuaGates https://t.co/1XRxzJrVVd\n",
            "Formations of a flock of birds in the sky and a school of fish in the ocean. https://t.co/9aCs4fm3Jl\n",
            "The virus claimed a fraternity brother, youth mentor, and onetime Mardi Gras ‘King Zulu.’ This is his story. https://t.co/sOS1P2S8xd\n",
            "*Joins meeting*\n",
            "\n",
            "*Mutes mic*\n",
            "\n",
            "*Only pays attention to the comments in the chat*\n",
            "On Nov. 9, Pfizer and BioNTech announced that its vaccine candidate is more than 90% effective with no serious safe… https://t.co/80NCRi8ozW\n",
            "Presenting the open-sourced Objectron dataset, a collection of short, object-centric video clips capturing common o… https://t.co/t1FW8NUo2U\n",
            "Gauri|0️⃣|Followers\n",
            "Waiting to refresh\n",
            "Gauri|0️⃣|Followers\n",
            "Waiting to refresh\n",
            "Gauri|0️⃣|Followers\n",
            "Waiting to refresh\n",
            "Gauri|0️⃣|Followers\n",
            "Waiting to refresh\n",
            "Gauri|0️⃣|Followers\n",
            "Waiting to refresh\n",
            "Gauri|0️⃣|Followers\n",
            "Waiting to refresh\n",
            "Gauri|0️⃣|Followers\n",
            "Waiting to refresh\n",
            "Gauri|0️⃣|Followers\n",
            "Waiting to refresh\n",
            "Gauri|0️⃣|Followers\n",
            "Waiting to refresh\n"
          ],
          "name": "stdout"
        },
        {
          "output_type": "error",
          "ename": "KeyboardInterrupt",
          "evalue": "ignored",
          "traceback": [
            "\u001b[0;31m---------------------------------------------------------------------------\u001b[0m",
            "\u001b[0;31mKeyboardInterrupt\u001b[0m                         Traceback (most recent call last)",
            "\u001b[0;32m<ipython-input-19-c88b37931e5b>\u001b[0m in \u001b[0;36m<module>\u001b[0;34m()\u001b[0m\n\u001b[1;32m     24\u001b[0m   \u001b[0mprint\u001b[0m\u001b[0;34m(\u001b[0m\u001b[0;34m\"Waiting to refresh\"\u001b[0m\u001b[0;34m)\u001b[0m\u001b[0;34m\u001b[0m\u001b[0;34m\u001b[0m\u001b[0m\n\u001b[1;32m     25\u001b[0m \u001b[0;34m\u001b[0m\u001b[0m\n\u001b[0;32m---> 26\u001b[0;31m   \u001b[0mtime\u001b[0m\u001b[0;34m.\u001b[0m\u001b[0msleep\u001b[0m\u001b[0;34m(\u001b[0m\u001b[0;36m30\u001b[0m\u001b[0;34m)\u001b[0m\u001b[0;34m\u001b[0m\u001b[0;34m\u001b[0m\u001b[0m\n\u001b[0m",
            "\u001b[0;31mKeyboardInterrupt\u001b[0m: "
          ]
        }
      ]
    },
    {
      "cell_type": "code",
      "metadata": {
        "id": "1jLqCgRxhjnZ"
      },
      "source": [
        ""
      ],
      "execution_count": null,
      "outputs": []
    }
  ]
}