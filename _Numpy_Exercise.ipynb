{
  "nbformat": 4,
  "nbformat_minor": 0,
  "metadata": {
    "kernelspec": {
      "display_name": "Python 3",
      "language": "python",
      "name": "python3"
    },
    "language_info": {
      "codemirror_mode": {
        "name": "ipython",
        "version": 3
      },
      "file_extension": ".py",
      "mimetype": "text/x-python",
      "name": "python",
      "nbconvert_exporter": "python",
      "pygments_lexer": "ipython3",
      "version": "3.7.3"
    },
    "colab": {
      "name": "Copy of Numpy_Exercise.ipynb",
      "provenance": []
    }
  },
  "cells": [
    {
      "cell_type": "markdown",
      "metadata": {
        "id": "URuUKW9oawsS",
        "colab_type": "text"
      },
      "source": [
        "# Numpy Exercise"
      ]
    },
    {
      "cell_type": "markdown",
      "metadata": {
        "id": "8RawpAfYawsT",
        "colab_type": "text"
      },
      "source": [
        "#### 1. Import the numpy package under the name as np  "
      ]
    },
    {
      "cell_type": "code",
      "metadata": {
        "id": "h4OjAICjawsT",
        "colab_type": "code",
        "colab": {}
      },
      "source": [
        "import numpy as np"
      ],
      "execution_count": null,
      "outputs": []
    },
    {
      "cell_type": "markdown",
      "metadata": {
        "id": "OXwh0Xy4awsX",
        "colab_type": "text"
      },
      "source": [
        "#### 2. Print the numpy version and the configuration "
      ]
    },
    {
      "cell_type": "code",
      "metadata": {
        "id": "bhXf3XRmawsX",
        "colab_type": "code",
        "colab": {
          "base_uri": "https://localhost:8080/",
          "height": 487
        },
        "outputId": "f0dfc1fd-7ecf-4641-f5be-3b4f4c2c7c74"
      },
      "source": [
        "print(np.__version__)\n",
        "print(np.show_config())"
      ],
      "execution_count": null,
      "outputs": [
        {
          "output_type": "stream",
          "text": [
            "1.18.5\n",
            "blas_mkl_info:\n",
            "  NOT AVAILABLE\n",
            "blis_info:\n",
            "  NOT AVAILABLE\n",
            "openblas_info:\n",
            "    libraries = ['openblas', 'openblas']\n",
            "    library_dirs = ['/usr/local/lib']\n",
            "    language = c\n",
            "    define_macros = [('HAVE_CBLAS', None)]\n",
            "blas_opt_info:\n",
            "    libraries = ['openblas', 'openblas']\n",
            "    library_dirs = ['/usr/local/lib']\n",
            "    language = c\n",
            "    define_macros = [('HAVE_CBLAS', None)]\n",
            "lapack_mkl_info:\n",
            "  NOT AVAILABLE\n",
            "openblas_lapack_info:\n",
            "    libraries = ['openblas', 'openblas']\n",
            "    library_dirs = ['/usr/local/lib']\n",
            "    language = c\n",
            "    define_macros = [('HAVE_CBLAS', None)]\n",
            "lapack_opt_info:\n",
            "    libraries = ['openblas', 'openblas']\n",
            "    library_dirs = ['/usr/local/lib']\n",
            "    language = c\n",
            "    define_macros = [('HAVE_CBLAS', None)]\n",
            "None\n"
          ],
          "name": "stdout"
        }
      ]
    },
    {
      "cell_type": "markdown",
      "metadata": {
        "id": "DHps94lPawsa",
        "colab_type": "text"
      },
      "source": [
        "#### 3. Create a null vector of size 10"
      ]
    },
    {
      "cell_type": "code",
      "metadata": {
        "id": "kQQ-E2xkawsa",
        "colab_type": "code",
        "colab": {
          "base_uri": "https://localhost:8080/",
          "height": 34
        },
        "outputId": "ecb17566-fd8f-403a-c298-bf9d16163442"
      },
      "source": [
        "a=np.zeros(10)\n",
        "print(a)"
      ],
      "execution_count": null,
      "outputs": [
        {
          "output_type": "stream",
          "text": [
            "[0. 0. 0. 0. 0. 0. 0. 0. 0. 0.]\n"
          ],
          "name": "stdout"
        }
      ]
    },
    {
      "cell_type": "markdown",
      "metadata": {
        "id": "2akhEp6nawsd",
        "colab_type": "text"
      },
      "source": [
        "#### 4.  How to find the memory size of any array"
      ]
    },
    {
      "cell_type": "code",
      "metadata": {
        "id": "zNT3QO6Eawsd",
        "colab_type": "code",
        "colab": {
          "base_uri": "https://localhost:8080/",
          "height": 50
        },
        "outputId": "757900bf-be89-43d6-d9ef-4b19bb950c71"
      },
      "source": [
        "b=np.size(a)\n",
        "print(\"size of an array:\\n\",b)"
      ],
      "execution_count": null,
      "outputs": [
        {
          "output_type": "stream",
          "text": [
            "size of an array:\n",
            " 10\n"
          ],
          "name": "stdout"
        }
      ]
    },
    {
      "cell_type": "markdown",
      "metadata": {
        "id": "X2vQfjSJawsg",
        "colab_type": "text"
      },
      "source": [
        "#### 5.  How to get the documentation of the numpy add function from the command line? "
      ]
    },
    {
      "cell_type": "code",
      "metadata": {
        "id": "Le9uc7MRawsg",
        "colab_type": "code",
        "colab": {}
      },
      "source": [
        "np.add?"
      ],
      "execution_count": null,
      "outputs": []
    },
    {
      "cell_type": "markdown",
      "metadata": {
        "id": "v60M2i-bawsj",
        "colab_type": "text"
      },
      "source": [
        "#### 6.  Create a null vector of size 10 but the fifth value which is 1"
      ]
    },
    {
      "cell_type": "code",
      "metadata": {
        "id": "wlWHSMseawsj",
        "colab_type": "code",
        "colab": {
          "base_uri": "https://localhost:8080/",
          "height": 34
        },
        "outputId": "d993a126-5716-4433-8443-f36623cafff0"
      },
      "source": [
        "c=np.zeros(10)\n",
        "c[4]=1\n",
        "print(c)"
      ],
      "execution_count": null,
      "outputs": [
        {
          "output_type": "stream",
          "text": [
            "[0. 0. 0. 0. 1. 0. 0. 0. 0. 0.]\n"
          ],
          "name": "stdout"
        }
      ]
    },
    {
      "cell_type": "markdown",
      "metadata": {
        "id": "eRYK5aU7awsm",
        "colab_type": "text"
      },
      "source": [
        "#### 7.  Create a vector with values ranging from 10 to 49"
      ]
    },
    {
      "cell_type": "code",
      "metadata": {
        "id": "OeqA21Vfawsn",
        "colab_type": "code",
        "colab": {
          "base_uri": "https://localhost:8080/",
          "height": 50
        },
        "outputId": "92c3727a-83ce-48f6-9506-3274843d3627"
      },
      "source": [
        "d=np.arange(10,50)\n",
        "print(d)"
      ],
      "execution_count": null,
      "outputs": [
        {
          "output_type": "stream",
          "text": [
            "[10 11 12 13 14 15 16 17 18 19 20 21 22 23 24 25 26 27 28 29 30 31 32 33\n",
            " 34 35 36 37 38 39 40 41 42 43 44 45 46 47 48 49]\n"
          ],
          "name": "stdout"
        }
      ]
    },
    {
      "cell_type": "markdown",
      "metadata": {
        "id": "VhuxqeLmawsp",
        "colab_type": "text"
      },
      "source": [
        "#### 8.  Reverse a vector (first element becomes last)"
      ]
    },
    {
      "cell_type": "code",
      "metadata": {
        "id": "0GhuT1Evawsp",
        "colab_type": "code",
        "colab": {
          "base_uri": "https://localhost:8080/",
          "height": 50
        },
        "outputId": "c32f9a6d-223a-4b31-b465-cf24ed0e0352"
      },
      "source": [
        "print(np.arange(49,9,-1))"
      ],
      "execution_count": null,
      "outputs": [
        {
          "output_type": "stream",
          "text": [
            "[49 48 47 46 45 44 43 42 41 40 39 38 37 36 35 34 33 32 31 30 29 28 27 26\n",
            " 25 24 23 22 21 20 19 18 17 16 15 14 13 12 11 10]\n"
          ],
          "name": "stdout"
        }
      ]
    },
    {
      "cell_type": "markdown",
      "metadata": {
        "id": "2G-g51Inawsr",
        "colab_type": "text"
      },
      "source": [
        "#### 9.  Create a 3x3 matrix with values ranging from 0 to 8"
      ]
    },
    {
      "cell_type": "code",
      "metadata": {
        "id": "rWrfKKNBawss",
        "colab_type": "code",
        "colab": {
          "base_uri": "https://localhost:8080/",
          "height": 67
        },
        "outputId": "017927d9-2a7f-4809-92cc-1fda107b654b"
      },
      "source": [
        "e=np.arange(0,9).reshape(3,3)\n",
        "print(e)"
      ],
      "execution_count": null,
      "outputs": [
        {
          "output_type": "stream",
          "text": [
            "[[0 1 2]\n",
            " [3 4 5]\n",
            " [6 7 8]]\n"
          ],
          "name": "stdout"
        }
      ]
    },
    {
      "cell_type": "markdown",
      "metadata": {
        "id": "IulQsyQ6awsu",
        "colab_type": "text"
      },
      "source": [
        "#### 10. Find indices of non-zero elements from \\[1,2,0,0,4,0\\]"
      ]
    },
    {
      "cell_type": "code",
      "metadata": {
        "id": "Bo7RZeQ4awsu",
        "colab_type": "code",
        "colab": {
          "base_uri": "https://localhost:8080/",
          "height": 34
        },
        "outputId": "28586349-8d7f-415d-de58-d1f1374da698"
      },
      "source": [
        "li=np.array([1,2,0,0,4,0])\n",
        "print(np.where(li !=0))\n"
      ],
      "execution_count": null,
      "outputs": [
        {
          "output_type": "stream",
          "text": [
            "(array([0, 1, 4]),)\n"
          ],
          "name": "stdout"
        }
      ]
    },
    {
      "cell_type": "markdown",
      "metadata": {
        "id": "YK69X4vXawsw",
        "colab_type": "text"
      },
      "source": [
        "#### 11. Create a 3x3 identity matrix"
      ]
    },
    {
      "cell_type": "code",
      "metadata": {
        "id": "404F2seoawsx",
        "colab_type": "code",
        "colab": {
          "base_uri": "https://localhost:8080/",
          "height": 67
        },
        "outputId": "9dedeaaf-7e83-4431-d742-671151860959"
      },
      "source": [
        "print(np.identity(3))"
      ],
      "execution_count": null,
      "outputs": [
        {
          "output_type": "stream",
          "text": [
            "[[1. 0. 0.]\n",
            " [0. 1. 0.]\n",
            " [0. 0. 1.]]\n"
          ],
          "name": "stdout"
        }
      ]
    },
    {
      "cell_type": "markdown",
      "metadata": {
        "id": "i4yaO1PPawsz",
        "colab_type": "text"
      },
      "source": [
        "#### 12. Create a 3x3x3 array with random values"
      ]
    },
    {
      "cell_type": "code",
      "metadata": {
        "id": "zYBgvdDVawsz",
        "colab_type": "code",
        "colab": {
          "base_uri": "https://localhost:8080/",
          "height": 202
        },
        "outputId": "3021025e-91b1-4b3f-a4a5-df9244aaff2c"
      },
      "source": [
        "g=np.random.random((3,3,3))\n",
        "print(g)"
      ],
      "execution_count": null,
      "outputs": [
        {
          "output_type": "stream",
          "text": [
            "[[[0.95807675 0.35797924 0.13906248]\n",
            "  [0.80194767 0.58739703 0.76327444]\n",
            "  [0.20988798 0.73545267 0.69691855]]\n",
            "\n",
            " [[0.69572978 0.27744546 0.60795133]\n",
            "  [0.54193625 0.60206651 0.18210708]\n",
            "  [0.88141083 0.02403726 0.07261533]]\n",
            "\n",
            " [[0.9203175  0.7166812  0.36469742]\n",
            "  [0.66863546 0.4350537  0.70601638]\n",
            "  [0.51939264 0.55872873 0.30957004]]]\n"
          ],
          "name": "stdout"
        }
      ]
    },
    {
      "cell_type": "markdown",
      "metadata": {
        "id": "lLEWRnMpaws1",
        "colab_type": "text"
      },
      "source": [
        "#### 13. Create a 10x10 array with random values and find the minimum and maximum values"
      ]
    },
    {
      "cell_type": "code",
      "metadata": {
        "id": "27UyWkgMaws2",
        "colab_type": "code",
        "colab": {
          "base_uri": "https://localhost:8080/",
          "height": 420
        },
        "outputId": "37ee90a1-2d5c-47b4-89a4-447c01afc95c"
      },
      "source": [
        "x=np.random.random((10,10))\n",
        "print(x)\n",
        "print(\"minimum value is\")\n",
        "print(np.min(x))\n",
        "print(\"maximum value is\")\n",
        "print(np.max(x))"
      ],
      "execution_count": null,
      "outputs": [
        {
          "output_type": "stream",
          "text": [
            "[[0.96819948 0.61934713 0.80614578 0.17467317 0.10997049 0.98222221\n",
            "  0.86508164 0.95198719 0.4752364  0.5872091 ]\n",
            " [0.33523875 0.24025588 0.98816309 0.62552012 0.67994452 0.22362295\n",
            "  0.07318461 0.09937382 0.43547707 0.32696742]\n",
            " [0.77040001 0.59247361 0.44521227 0.671556   0.71518481 0.74039796\n",
            "  0.83986248 0.12195263 0.16255189 0.29081867]\n",
            " [0.17474336 0.31348121 0.06539682 0.40747023 0.26787605 0.42986527\n",
            "  0.856654   0.94344023 0.02567528 0.5897683 ]\n",
            " [0.87359987 0.58234749 0.4050225  0.27889308 0.02980644 0.26793542\n",
            "  0.55237089 0.67777877 0.03557967 0.80084378]\n",
            " [0.32220086 0.28742734 0.90274496 0.33959652 0.03965864 0.64165242\n",
            "  0.75933534 0.2047848  0.05373703 0.23007559]\n",
            " [0.70984866 0.15798    0.23910786 0.24487359 0.6480821  0.38227435\n",
            "  0.2498096  0.18898179 0.82457529 0.66144853]\n",
            " [0.81245774 0.4722679  0.57348513 0.49100141 0.87980433 0.23945829\n",
            "  0.67660932 0.01435452 0.82659248 0.11827089]\n",
            " [0.90459101 0.78066227 0.67631452 0.57624189 0.32795163 0.47308225\n",
            "  0.83865107 0.80978082 0.44487976 0.45705774]\n",
            " [0.45819364 0.299336   0.23866205 0.87911852 0.72418612 0.0812206\n",
            "  0.13519518 0.1121421  0.81253654 0.77550263]]\n",
            "minimum value is\n",
            "0.014354521147220023\n",
            "maximum value is\n",
            "0.9881630896658352\n"
          ],
          "name": "stdout"
        }
      ]
    },
    {
      "cell_type": "markdown",
      "metadata": {
        "id": "C6-te8TBaws5",
        "colab_type": "text"
      },
      "source": [
        "#### 14. Create a random vector of size 30 and find the mean value"
      ]
    },
    {
      "cell_type": "code",
      "metadata": {
        "id": "gfP4TXoSaws5",
        "colab_type": "code",
        "colab": {
          "base_uri": "https://localhost:8080/",
          "height": 202
        },
        "outputId": "e10af2f9-bfd3-43d7-897f-28304180096f"
      },
      "source": [
        "rand=np.random.random((10,3))\n",
        "print(rand)\n",
        "m=np.mean(rand)\n",
        "print(\"mean value is:{}\".format(m))"
      ],
      "execution_count": null,
      "outputs": [
        {
          "output_type": "stream",
          "text": [
            "[[0.23421018 0.50478006 0.91322316]\n",
            " [0.51420903 0.75489353 0.75084741]\n",
            " [0.19427257 0.93215709 0.0279612 ]\n",
            " [0.1720182  0.27203108 0.6822665 ]\n",
            " [0.05298035 0.86241184 0.5266343 ]\n",
            " [0.71829134 0.25225666 0.97749439]\n",
            " [0.50903272 0.1701279  0.27906278]\n",
            " [0.63313181 0.02337611 0.76601579]\n",
            " [0.8083015  0.25383373 0.58288842]\n",
            " [0.6868634  0.33167695 0.64274066]]\n",
            "mean value is:0.5009996884537968\n"
          ],
          "name": "stdout"
        }
      ]
    },
    {
      "cell_type": "markdown",
      "metadata": {
        "id": "JglIriV7aws7",
        "colab_type": "text"
      },
      "source": [
        "#### 15. Create a 2d array with 1 on the border and 0 inside"
      ]
    },
    {
      "cell_type": "code",
      "metadata": {
        "id": "NcUzsT59aws8",
        "colab_type": "code",
        "colab": {
          "base_uri": "https://localhost:8080/",
          "height": 202
        },
        "outputId": "96ab720e-3da1-4e37-9c76-d04b739024ba"
      },
      "source": [
        "\n",
        "k=np.full((5,5),1)\n",
        "print(k)\n",
        "k[1:-1,1:-1]=0\n",
        "print(\"\\n\",k)\n",
        "\n"
      ],
      "execution_count": null,
      "outputs": [
        {
          "output_type": "stream",
          "text": [
            "[[1 1 1 1 1]\n",
            " [1 1 1 1 1]\n",
            " [1 1 1 1 1]\n",
            " [1 1 1 1 1]\n",
            " [1 1 1 1 1]]\n",
            "\n",
            " [[1 1 1 1 1]\n",
            " [1 0 0 0 1]\n",
            " [1 0 0 0 1]\n",
            " [1 0 0 0 1]\n",
            " [1 1 1 1 1]]\n"
          ],
          "name": "stdout"
        }
      ]
    },
    {
      "cell_type": "markdown",
      "metadata": {
        "id": "ghhXo_-Paws-",
        "colab_type": "text"
      },
      "source": [
        "#### 16. How to add a border (filled with 0's) around an existing array?"
      ]
    },
    {
      "cell_type": "code",
      "metadata": {
        "id": "csZ6AOaRaws_",
        "colab_type": "code",
        "colab": {
          "base_uri": "https://localhost:8080/",
          "height": 151
        },
        "outputId": "b2321e9e-a22d-413e-8623-a1dbc8e8cb1b"
      },
      "source": [
        "y=np.arange(10,22).reshape(3,4)\n",
        "print(\"\\n\",y)\n",
        "y[0,:]=0\n",
        "y[-1,:]=0\n",
        "y[:,0]=0\n",
        "y[:,-1]=0\n",
        "print(\"\\n\",y)"
      ],
      "execution_count": null,
      "outputs": [
        {
          "output_type": "stream",
          "text": [
            "\n",
            " [[10 11 12 13]\n",
            " [14 15 16 17]\n",
            " [18 19 20 21]]\n",
            "\n",
            " [[ 0  0  0  0]\n",
            " [ 0 15 16  0]\n",
            " [ 0  0  0  0]]\n"
          ],
          "name": "stdout"
        }
      ]
    },
    {
      "cell_type": "markdown",
      "metadata": {
        "id": "Pms9WumRawtB",
        "colab_type": "text"
      },
      "source": [
        "#### 17. What is the result of the following expression?"
      ]
    },
    {
      "cell_type": "markdown",
      "metadata": {
        "id": "t-mj4HK9awtB",
        "colab_type": "text"
      },
      "source": [
        "```python\n",
        "0 * np.nan\n",
        "np.nan == np.nan\n",
        "np.inf > np.nan\n",
        "np.nan - np.nan\n",
        "np.nan in set([np.nan])\n",
        "0.3 == 3 * 0.1\n",
        "```"
      ]
    },
    {
      "cell_type": "code",
      "metadata": {
        "id": "m_hfoPXYawtB",
        "colab_type": "code",
        "colab": {}
      },
      "source": [
        "False"
      ],
      "execution_count": null,
      "outputs": []
    },
    {
      "cell_type": "markdown",
      "metadata": {
        "id": "w6oHNa-OawtD",
        "colab_type": "text"
      },
      "source": [
        "#### 18. Create a 5x5 matrix with values 1,2,3,4 just below the diagonal"
      ]
    },
    {
      "cell_type": "code",
      "metadata": {
        "id": "mhgd4kdQawtE",
        "colab_type": "code",
        "colab": {
          "base_uri": "https://localhost:8080/",
          "height": 101
        },
        "outputId": "aad9ffae-47b1-45be-f763-9ca93be8342c"
      },
      "source": [
        "p = np.diag(1+np.arange(4),k=-1)\n",
        "print(p)"
      ],
      "execution_count": null,
      "outputs": [
        {
          "output_type": "stream",
          "text": [
            "[[0 0 0 0 0]\n",
            " [1 0 0 0 0]\n",
            " [0 2 0 0 0]\n",
            " [0 0 3 0 0]\n",
            " [0 0 0 4 0]]\n"
          ],
          "name": "stdout"
        }
      ]
    },
    {
      "cell_type": "markdown",
      "metadata": {
        "id": "d1Y8rJ2QawtG",
        "colab_type": "text"
      },
      "source": [
        "#### 19. Create a 8x8 matrix and fill it with a checkerboard pattern"
      ]
    },
    {
      "cell_type": "code",
      "metadata": {
        "id": "H6FUXCAQawtG",
        "colab_type": "code",
        "colab": {
          "base_uri": "https://localhost:8080/",
          "height": 151
        },
        "outputId": "f5d38de3-1be7-4682-e6f5-4622e2d7bd51"
      },
      "source": [
        "v=np.zeros((8,8))\n",
        "v[1::2,::2] = 1\n",
        "v[::2,1::2] = 1\n",
        "print(v)\n"
      ],
      "execution_count": null,
      "outputs": [
        {
          "output_type": "stream",
          "text": [
            "[[0. 1. 0. 1. 0. 1. 0. 1.]\n",
            " [1. 0. 1. 0. 1. 0. 1. 0.]\n",
            " [0. 1. 0. 1. 0. 1. 0. 1.]\n",
            " [1. 0. 1. 0. 1. 0. 1. 0.]\n",
            " [0. 1. 0. 1. 0. 1. 0. 1.]\n",
            " [1. 0. 1. 0. 1. 0. 1. 0.]\n",
            " [0. 1. 0. 1. 0. 1. 0. 1.]\n",
            " [1. 0. 1. 0. 1. 0. 1. 0.]]\n"
          ],
          "name": "stdout"
        }
      ]
    },
    {
      "cell_type": "markdown",
      "metadata": {
        "id": "5QtflC3MawtI",
        "colab_type": "text"
      },
      "source": [
        "#### 20. Consider a (6,7,8) shape array, what is the index (x,y,z) of the 100th element?"
      ]
    },
    {
      "cell_type": "code",
      "metadata": {
        "id": "RAjFJ9RyawtI",
        "colab_type": "code",
        "colab": {
          "base_uri": "https://localhost:8080/",
          "height": 34
        },
        "outputId": "54a994f1-9d49-4091-f1ed-1b344e77268a"
      },
      "source": [
        "print (np.unravel_index(100, (6,7,8)))"
      ],
      "execution_count": null,
      "outputs": [
        {
          "output_type": "stream",
          "text": [
            "(1, 5, 4)\n"
          ],
          "name": "stdout"
        }
      ]
    },
    {
      "cell_type": "code",
      "metadata": {
        "id": "YqHWgnKg6H-j",
        "colab_type": "code",
        "colab": {}
      },
      "source": [
        ""
      ],
      "execution_count": null,
      "outputs": []
    }
  ]
}