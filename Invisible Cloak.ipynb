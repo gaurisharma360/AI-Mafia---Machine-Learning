{
 "cells": [
  {
   "cell_type": "code",
   "execution_count": 8,
   "metadata": {},
   "outputs": [],
   "source": [
    "import numpy as np\n",
    "import cv2\n",
    "import time\n",
    "cap=cv2.VideoCapture(0)\n",
    "time.sleep(2)\n",
    "background=0\n",
    "#capturing background\n",
    "for i in range(30):\n",
    "    ret,background=cap.read()\n",
    "#capturing image\n",
    "while(cap.isOpened()):\n",
    "    ret,img=cap.read()\n",
    "    if not ret:\n",
    "        break\n",
    "    hsv=cv2.cvtColor(img,cv2.COLOR_BGR2HSV)\n",
    "    lower_red=np.array([0,120,70])\n",
    "    upper_red=np.array([10,255,255])\n",
    "    mask1=cv2.inRange(hsv,lower_red,upper_red)#sepearting cloak\n",
    "    \n",
    "    lower_red=np.array([170,120,70])\n",
    "    upper_red=np.array([180,255,255])\n",
    "    mask2=cv2.inRange(hsv,lower_red,upper_red)\n",
    "    \n",
    "    mask1=mask1+mask2#(1=or operator)\n",
    "    #MORPH_OPEN removes any noise or any useless stuff in a image\n",
    "    mask1=cv2.morphologyEx(mask1,cv2.MORPH_OPEN,\n",
    "                          np.ones((3,3),np.uint8),iterations=2)#noise removal\n",
    "    mask1=cv2.morphologyEx(mask1,cv2.MORPH_DILATE,\n",
    "                          np.ones((3,3),np.uint8),iterations=1)\n",
    "    mask2=cv2.bitwise_not(mask1)#everything except the cloak\n",
    "    res1=cv2.bitwise_and(background,background,mask=mask1)#used for segmenting the color\n",
    "    res2=cv2.bitwise_and(background,img,mask=mask2)#used to substitute the cloak part\n",
    "    final_output=cv2.addWeighted(res1,1,res2,1,0)\n",
    "    cv2.imshow(\"Eureka!!\",final_output)\n",
    "    k=cv2.waitKey(10)\n",
    "    if k==27:\n",
    "        break\n",
    "cap.release() \n",
    "cv2.destroyAllWindows()\n",
    "\n"
   ]
  },
  {
   "cell_type": "code",
   "execution_count": null,
   "metadata": {},
   "outputs": [],
   "source": []
  }
 ],
 "metadata": {
  "kernelspec": {
   "display_name": "Python 3",
   "language": "python",
   "name": "python3"
  },
  "language_info": {
   "codemirror_mode": {
    "name": "ipython",
    "version": 3
   },
   "file_extension": ".py",
   "mimetype": "text/x-python",
   "name": "python",
   "nbconvert_exporter": "python",
   "pygments_lexer": "ipython3",
   "version": "3.7.6"
  }
 },
 "nbformat": 4,
 "nbformat_minor": 4
}
