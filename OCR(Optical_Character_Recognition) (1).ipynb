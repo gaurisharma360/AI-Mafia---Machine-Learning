{
  "nbformat": 4,
  "nbformat_minor": 0,
  "metadata": {
    "colab": {
      "name": "OCR(Optical Character Recognition).ipynb",
      "provenance": []
    },
    "kernelspec": {
      "name": "python3",
      "display_name": "Python 3"
    }
  },
  "cells": [
    {
      "cell_type": "code",
      "metadata": {
        "id": "T5EKn7kyCFlD"
      },
      "source": [
        "!sudo apt install tesseract-ocr\n",
        "!pip install pytesseract  #for optical charcater recognition"
      ],
      "execution_count": null,
      "outputs": []
    },
    {
      "cell_type": "code",
      "metadata": {
        "id": "4bfncJb3y_Dp"
      },
      "source": [
        "!wget https://www.dreamdashjournal.com/15-inspirational-quotes-to-start-your-day-with-motivation-5/#get image data from web"
      ],
      "execution_count": null,
      "outputs": []
    },
    {
      "cell_type": "code",
      "metadata": {
        "id": "TMpe9f0EwRXZ"
      },
      "source": [
        "path='/content/index.html'\n",
        "import cv2\n",
        "import pytesseract\n",
        "print(pytesseract.image_to_string(cv2.imread(path)))"
      ],
      "execution_count": null,
      "outputs": []
    },
    {
      "cell_type": "code",
      "metadata": {
        "id": "BJftVyc126ur"
      },
      "source": [
        "!pip install streamlit#(streamlit works only on local url)\n",
        "!pip install pyngrok==4.1.1 #(version of pyngrok(tunneling software) ;converts local to global url)\n",
        "from pyngrok import ngrok"
      ],
      "execution_count": null,
      "outputs": []
    },
    {
      "cell_type": "code",
      "metadata": {
        "id": "yygg6aLnycyS"
      },
      "source": [
        "%%writefile app.py     \n",
        "#writes whole file\n",
        "import cv2\n",
        "import pytesseract\n",
        "from PIL import Image\n",
        "import streamlit as st\n",
        "st.title(\"OCR-Optical Character Recognition \")\n",
        "st.text(\"Upload the Image\")\n",
        "up_file=st.sidebar.file_uploader(\"Choose an image...\",type=['jpg','png'])\n",
        "if up_file is not None:\n",
        "  img=Image.open(up_file)\n",
        "  st.image(img,caption=\"Uploaded Image\",use_column_width=True)\n",
        "  st.write(\" \")\n",
        "  if st.button(\"PREDICT\"):\n",
        "    st.write(\"RESULT....\")\n",
        "    out=pytesseract.image_to_string(img)\n",
        "    st.title(out)"
      ],
      "execution_count": null,
      "outputs": []
    },
    {
      "cell_type": "code",
      "metadata": {
        "id": "xsrwkC_k8rvp"
      },
      "source": [
        "!nohup streamlit run app.py &\n",
        "url=ngrok.connect(port='8501')\n",
        "url"
      ],
      "execution_count": null,
      "outputs": []
    },
    {
      "cell_type": "code",
      "metadata": {
        "id": "thQrf5Ft_FPq"
      },
      "source": [
        ""
      ],
      "execution_count": null,
      "outputs": []
    }
  ]
}