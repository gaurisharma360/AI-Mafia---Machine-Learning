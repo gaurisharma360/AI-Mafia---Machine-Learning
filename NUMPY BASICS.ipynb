{
 "cells": [
  {
   "cell_type": "markdown",
   "metadata": {},
   "source": [
    "# ARRAY INTRO"
   ]
  },
  {
   "cell_type": "code",
   "execution_count": 2,
   "metadata": {},
   "outputs": [],
   "source": [
    "import numpy as np\n"
   ]
  },
  {
   "cell_type": "code",
   "execution_count": 7,
   "metadata": {},
   "outputs": [
    {
     "name": "stdout",
     "output_type": "stream",
     "text": [
      "[[1 2 3]\n",
      " [4 5 6]]\n"
     ]
    }
   ],
   "source": [
    "a=np.array([[1,2,3],[4,5,6]])\n",
    "print (a)"
   ]
  },
  {
   "cell_type": "code",
   "execution_count": 8,
   "metadata": {},
   "outputs": [
    {
     "name": "stdout",
     "output_type": "stream",
     "text": [
      "[1 2 3]\n"
     ]
    }
   ],
   "source": [
    "a=np.array((1,2,3))\n",
    "print(a)"
   ]
  },
  {
   "cell_type": "code",
   "execution_count": 10,
   "metadata": {},
   "outputs": [
    {
     "name": "stdout",
     "output_type": "stream",
     "text": [
      "[[0. 0. 0. 0.]\n",
      " [0. 0. 0. 0.]\n",
      " [0. 0. 0. 0.]]\n"
     ]
    }
   ],
   "source": [
    "a=np.zeros((3,4))\n",
    "print(a)"
   ]
  },
  {
   "cell_type": "code",
   "execution_count": 20,
   "metadata": {},
   "outputs": [
    {
     "name": "stdout",
     "output_type": "stream",
     "text": [
      "[[6.+0.j 6.+0.j 6.+0.j]\n",
      " [6.+0.j 6.+0.j 6.+0.j]\n",
      " [6.+0.j 6.+0.j 6.+0.j]]\n"
     ]
    }
   ],
   "source": [
    "d = np.full((3, 3), 6, dtype = 'complex')\n",
    "print(d)"
   ]
  },
  {
   "cell_type": "code",
   "execution_count": 23,
   "metadata": {},
   "outputs": [
    {
     "name": "stdout",
     "output_type": "stream",
     "text": [
      "[[0. 0. 0. 0.]\n",
      " [0. 0. 0. 0.]\n",
      " [0. 0. 0. 0.]]\n"
     ]
    }
   ],
   "source": [
    "d=np.random.random((2,2))\n",
    "print(a)"
   ]
  },
  {
   "cell_type": "code",
   "execution_count": 25,
   "metadata": {},
   "outputs": [
    {
     "name": "stdout",
     "output_type": "stream",
     "text": [
      "[ 0  8 16 24 32 40 48 56 64]\n"
     ]
    }
   ],
   "source": [
    "d=np.arange(0,72,8)\n",
    "print(d)"
   ]
  },
  {
   "cell_type": "code",
   "execution_count": 28,
   "metadata": {},
   "outputs": [
    {
     "name": "stdout",
     "output_type": "stream",
     "text": [
      "[0.   1.25 2.5  3.75 5.  ]\n"
     ]
    }
   ],
   "source": [
    "g = np.linspace(0, 5, 5)\n",
    "print(g)"
   ]
  },
  {
   "cell_type": "code",
   "execution_count": 53,
   "metadata": {},
   "outputs": [
    {
     "name": "stdout",
     "output_type": "stream",
     "text": [
      "[[ 1  2  3]\n",
      " [ 4  5  6]\n",
      " [ 7  8  9]\n",
      " [10 11 12]]\n",
      "reshaped array is\n",
      "[[[ 1  2  3]\n",
      "  [ 4  5  6]]\n",
      "\n",
      " [[ 7  8  9]\n",
      "  [10 11 12]]]\n",
      "flattened array is\n",
      "[ 1  2  3  4  5  6  7  8  9 10 11 12]\n"
     ]
    }
   ],
   "source": [
    "a=np.array([[1,2,3],[4,5,6],[7,8,9],[10,11,12]])\n",
    "print(a )\n",
    "print(\"reshaped array is\")\n",
    "new=a.reshape(2,2,3)\n",
    "print(new)\n",
    "print(\"flattened array is\")\n",
    "flat=a.flatten()\n",
    "print(flat)"
   ]
  },
  {
   "cell_type": "markdown",
   "metadata": {},
   "source": [
    "# ARRAY INDEXING"
   ]
  },
  {
   "cell_type": "code",
   "execution_count": 70,
   "metadata": {},
   "outputs": [
    {
     "name": "stdout",
     "output_type": "stream",
     "text": [
      "sliced array is \n",
      " [[4.  0. ]\n",
      " [2.6 8. ]]\n",
      "element at indices (0,3):\n",
      " [4. 6. 0. 3.]\n",
      "printing elements greater than 2\n",
      "[4.  4.  6.  2.6 7.  8.  3.  4. ]\n"
     ]
    }
   ],
   "source": [
    "a = np.array([[-1, 2, 0, 4],\n",
    "                [4, -0.5, 6, 0],\n",
    "                [2.6, 0, 7, 8],\n",
    "                [3, -7, 4, 2.0]])\n",
    "slicing=a[1:3,::3]\n",
    "print(\"sliced array is \\n {}\".format(slicing))\n",
    "b=a[[0,1,2,3],[3,2,1,0]]\n",
    "print(\"element at indices (0,3):\\n\",b)\n",
    "print(\"printing elements greater than 2\")\n",
    "conda=a>2\n",
    "temp=a[conda]\n",
    "print(temp)"
   ]
  },
  {
   "cell_type": "markdown",
   "metadata": {},
   "source": [
    "# SOME BASICS"
   ]
  },
  {
   "cell_type": "code",
   "execution_count": 82,
   "metadata": {},
   "outputs": [
    {
     "name": "stdout",
     "output_type": "stream",
     "text": [
      "[1 2 3 4 5 6]\n",
      "adding 3 to all the elements in  the array: [4 5 6 7 8 9]\n",
      "subtracting 1 from all the elements in  the array: [0 1 2 3 4 5]\n",
      "on multiplying each element with 2: [ 3  6  9 12 15 18]\n",
      "modifying the original array  [ 4  8 12 16 20 24]\n",
      "new array  is:\n",
      " [[1 2]\n",
      " [2 3]\n",
      " [4 5]]\n",
      "transpose of the array  is:\n",
      " [[1 2 4]\n",
      " [2 3 5]]\n"
     ]
    }
   ],
   "source": [
    "a=np.array([1,2,3,4,5,6])\n",
    "print(a)\n",
    "print(\"adding 3 to all the elements in  the array:\",a+3)\n",
    "print(\"subtracting 1 from all the elements in  the array:\",a-1)\n",
    "print(\"on multiplying each element with 2:\",a*3)\n",
    "a*=4\n",
    "print(\"modifying the original array \",a)\n",
    "a=np.array([[1,2],[2,3],[4,5]])\n",
    "print(\"new array  is:\\n\",a)\n",
    "print(\"transpose of the array  is:\\n\",a.T)\n",
    "\n"
   ]
  },
  {
   "cell_type": "markdown",
   "metadata": {},
   "source": [
    "# OPERATORS"
   ]
  },
  {
   "cell_type": "code",
   "execution_count": 93,
   "metadata": {},
   "outputs": [
    {
     "name": "stdout",
     "output_type": "stream",
     "text": [
      "sum:\n",
      " [[ 6  8]\n",
      " [ 9 11]]\n",
      "difference:\n",
      " [[-4 -4]\n",
      " [-3 -3]]\n",
      "multiplication:\n",
      " [[ 5 12]\n",
      " [18 28]]\n",
      "matrix multiplication:\n",
      " [[17 20]\n",
      " [39 46]]\n",
      "exponent of a:\n",
      " [[ 2.71828183  7.3890561 ]\n",
      " [20.08553692 54.59815003]]\n",
      "square root of a is:\n",
      "  [[2.23606798 2.44948974]\n",
      " [2.44948974 2.64575131]]\n",
      "sin of a is :\n",
      " [[ 0.84147098  0.90929743]\n",
      " [ 0.14112001 -0.7568025 ]]\n"
     ]
    }
   ],
   "source": [
    "a = np.array([[1, 2], \n",
    "              [3, 4]])\n",
    "b = np.array([[5, 6], \n",
    "              [6, 7]])\n",
    "print(\"sum:\\n\",a+b)\n",
    "print(\"difference:\\n\",a-b)\n",
    "print(\"multiplication:\\n\",a*b)\n",
    "print(\"matrix multiplication:\\n\",a.dot(b))\n",
    "print(\"exponent of a:\\n\",np.exp(a))\n",
    "print(\"square root of a is:\\n \",np.sqrt(b))\n",
    "print(\"sin of a is :\\n\",np.sin(a))\n",
    "\n"
   ]
  },
  {
   "cell_type": "markdown",
   "metadata": {},
   "source": [
    "# Sorting Arrays"
   ]
  },
  {
   "cell_type": "code",
   "execution_count": 104,
   "metadata": {},
   "outputs": [
    {
     "name": "stdout",
     "output_type": "stream",
     "text": [
      "elements in sorted order:\n",
      " [-1  1  2  4  4  5  6  9 10]\n",
      "row wise sort:\n",
      " [[ 1  2  4]\n",
      " [ 4  5  6]\n",
      " [-1  9 10]]\n",
      "column wise sort:\n",
      " [[ 1 -1  2]\n",
      " [ 5  4  6]\n",
      " [10  4  9]]\n",
      "array sorted by names:\n",
      " [(b'Aakash', 2009, 9. ) (b'Ajay', 2008, 8.7) (b'Hrithik', 2009, 8.5)\n",
      " (b'Pankaj', 2008, 7.9)]\n",
      "array sorted by graduation year and then cgpa [(b'Pankaj', 2008, 7.9) (b'Ajay', 2008, 8.7) (b'Hrithik', 2009, 8.5)\n",
      " (b'Aakash', 2009, 9. )]\n"
     ]
    }
   ],
   "source": [
    "a = np.array([[1, 4, 2],\n",
    "              [5, 4,6],\n",
    "              [10, -1, 9]])\n",
    "print(\"elements in sorted order:\\n\",np.sort(a,axis=None))\n",
    "print(\"row wise sort:\\n\",np.sort(a,axis=1))\n",
    "print(\"column wise sort:\\n\",np.sort(a,axis=0))\n",
    "column_name=[(\"Name\",\"S10\"),(\"grad_y\",int),(\"cgpa\",float)]\n",
    "values = [('Hrithik', 2009, 8.5), ('Ajay', 2008, 8.7), ('Pankaj', 2008, 7.9), ('Aakash', 2009, 9.0)]\n",
    "a=np.array(values,column_name)\n",
    "print(\"array sorted by names:\\n\",np.sort(a,order=\"Name\"))\n",
    "print(\"array sorted by graduation year and then cgpa\",np.sort(a,order=[\"grad_y\",\"cgpa\"]))\n",
    "\n",
    "\n"
   ]
  },
  {
   "cell_type": "markdown",
   "metadata": {},
   "source": [
    "# Stacking and Splitting"
   ]
  },
  {
   "cell_type": "code",
   "execution_count": 111,
   "metadata": {},
   "outputs": [
    {
     "name": "stdout",
     "output_type": "stream",
     "text": [
      "vertical stacking:\n",
      " [[ 1  2]\n",
      " [ 9 10]\n",
      " [ 5 12]\n",
      " [11  8]]\n",
      "horizontal stacking:\n",
      " [[ 1  2  5 12]\n",
      " [ 9 10 11  8]]\n",
      "column stack:\n",
      " [[ 5 12 21]\n",
      " [11  8 22]]\n",
      "concatenate:\n",
      " [[ 1  2  5 12]\n",
      " [ 9 10 11  8]]\n"
     ]
    }
   ],
   "source": [
    "a = np.array([[1, 2],\n",
    "              [9, 10]])\n",
    "\n",
    "b = np.array([[5, 12],\n",
    "              [11, 8]])\n",
    "print(\"vertical stacking:\\n\",np.vstack((a,b)))\n",
    "print(\"horizontal stacking:\\n\",np.hstack((a,b)))             \n",
    "c=[21,22]\n",
    "print(\"column stack:\\n\",np.column_stack((b,c)))             \n",
    "print(\"concatenate:\\n\",np.concatenate((a,b),1))             \n",
    "a = np.array([[1, 3, 5, 7, 9, 11],\n",
    "              [2, 4, 6, 8, 10, 12]])\n",
    "print(\"split horizontal in 2 parts\",np.hsplit(a,2))\n",
    "print(\"split in vertical in 2 parts\", np.vsplit(a,3))\n",
    "print (\"arry_split\",np.arr_split(a,1))\n",
    "\n",
    "      "
   ]
  },
  {
   "cell_type": "markdown",
   "metadata": {},
   "source": [
    "# Some more functions"
   ]
  },
  {
   "cell_type": "code",
   "execution_count": 117,
   "metadata": {},
   "outputs": [
    {
     "name": "stdout",
     "output_type": "stream",
     "text": [
      "[[ 1 12 31  4]\n",
      " [ 7 16 12  0]]\n",
      "min in whole array 0\n",
      "min in whole row [1 0]\n",
      "min in whole column [ 1 12 12  0]\n",
      "[[ 1 12 31  4]\n",
      " [ 7 16 12  0]]\n",
      "max in whole array 31\n",
      "max in whole row [31 16]\n",
      "max in whole column [ 7 16 31  4]\n",
      "median 2.0\n",
      "mean 2.4\n",
      "average 2.4\n"
     ]
    }
   ],
   "source": [
    "a = np.array([[1,12,31,4],[7,16,12,0]])\n",
    "print(a)\n",
    "print(\"min in whole array\",np.min(a))\n",
    "print(\"min in whole row\",np.min(a,1))\n",
    "print(\"min in whole column\",np.min(a,0))\n",
    "a = np.array([[1,12,31,4],[7,16,12,0]])\n",
    "print(a)\n",
    "print(\"max in whole array\",np.max(a))\n",
    "print(\"max in whole row\",np.max(a,1))\n",
    "print(\"max in whole column\",np.max(a,0))\n",
    "c = np.array([1,5,4,2,0])\n",
    "print(\"median\",np.median(c))\n",
    "print(\"mean\",np.mean(c))\n",
    "print(\"average\",np.average(c))\n",
    "\n",
    "\n",
    "\n"
   ]
  },
  {
   "cell_type": "code",
   "execution_count": null,
   "metadata": {},
   "outputs": [],
   "source": []
  }
 ],
 "metadata": {
  "kernelspec": {
   "display_name": "Python 3",
   "language": "python",
   "name": "python3"
  },
  "language_info": {
   "codemirror_mode": {
    "name": "ipython",
    "version": 3
   },
   "file_extension": ".py",
   "mimetype": "text/x-python",
   "name": "python",
   "nbconvert_exporter": "python",
   "pygments_lexer": "ipython3",
   "version": "3.7.6"
  }
 },
 "nbformat": 4,
 "nbformat_minor": 4
}
